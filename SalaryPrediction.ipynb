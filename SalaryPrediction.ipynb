{
 "cells": [
  {
   "cell_type": "code",
   "execution_count": 30,
   "id": "sunset-shepherd",
   "metadata": {},
   "outputs": [],
   "source": [
    "\n",
    "import pandas as pd\n",
    "\n",
    "# loading Salary dataset \n",
    "dataset = pd.read_csv('SalaryData.csv')\n"
   ]
  },
  {
   "cell_type": "code",
   "execution_count": 31,
   "id": "infinite-christianity",
   "metadata": {},
   "outputs": [
    {
     "name": "stdout",
     "output_type": "stream",
     "text": [
      "<class 'pandas.core.frame.DataFrame'>\n",
      "RangeIndex: 30 entries, 0 to 29\n",
      "Data columns (total 2 columns):\n",
      " #   Column           Non-Null Count  Dtype  \n",
      "---  ------           --------------  -----  \n",
      " 0   YearsExperience  30 non-null     float64\n",
      " 1   Salary           30 non-null     float64\n",
      "dtypes: float64(2)\n",
      "memory usage: 608.0 bytes\n"
     ]
    }
   ],
   "source": [
    "\n",
    "# to check the information about the dataset\n",
    "dataset.info()\n"
   ]
  },
  {
   "cell_type": "code",
   "execution_count": 32,
   "id": "bulgarian-cooling",
   "metadata": {},
   "outputs": [],
   "source": [
    "\n",
    "# defining the feature(x) and target(y) present in the dataset\n",
    "x = dataset['YearsExperience']\n",
    "y = dataset['Salary']\n",
    "\n",
    "# Since the method fit() takes up x as 2-D array, so converting it to 2-D implicitly..\n",
    "X = x.values.reshape(30,1)\n"
   ]
  },
  {
   "cell_type": "code",
   "execution_count": 33,
   "id": "distributed-career",
   "metadata": {},
   "outputs": [
    {
     "data": {
      "text/plain": [
       "array([ 67847.32237253, 107231.23277499,  53781.64008594,  64096.47376277,\n",
       "       124110.0515189 ,  55657.06439082,  62221.04945789, 114732.9299945 ,\n",
       "       102542.67201279])"
      ]
     },
     "execution_count": 33,
     "metadata": {},
     "output_type": "execute_result"
    }
   ],
   "source": [
    "\n",
    "from sklearn.model_selection import train_test_split\n",
    "from sklearn.linear_model import LinearRegression\n",
    "\n",
    "# splitting the data into training and testing\n",
    "X_train,X_test, y_train, y_test = train_test_split(X, y, test_size = 0.3) \n",
    "\n",
    "# Initializing the model\n",
    "model = LinearRegression()\n",
    "\n",
    "# fitting or training the model over training data\n",
    "model.fit(X_train, y_train)\n",
    "\n",
    "# predicting the salary over testing data\n",
    "model.predict(X_test)\n"
   ]
  },
  {
   "cell_type": "code",
   "execution_count": 34,
   "id": "removable-globe",
   "metadata": {},
   "outputs": [
    {
     "data": {
      "text/plain": [
       "14     61111.0\n",
       "24    109431.0\n",
       "6      60150.0\n",
       "13     57081.0\n",
       "29    121872.0\n",
       "8      64445.0\n",
       "10     63218.0\n",
       "26    116969.0\n",
       "23    113812.0\n",
       "Name: Salary, dtype: float64"
      ]
     },
     "execution_count": 34,
     "metadata": {},
     "output_type": "execute_result"
    }
   ],
   "source": [
    "# actual salary value for test data (just to compare it with the predited one)\n",
    "y_test"
   ]
  },
  {
   "cell_type": "code",
   "execution_count": 35,
   "id": "wired-advantage",
   "metadata": {},
   "outputs": [
    {
     "data": {
      "image/png": "[encoded data removed]",
      "text/plain": [
       "<Figure size 432x288 with 1 Axes>"
      ]
     },
     "metadata": {
      "needs_background": "light"
     },
     "output_type": "display_data"
    }
   ],
   "source": [
    "\n",
    "import matplotlib.pyplot as plt\n",
    "\n",
    "# plot the actual data points of test set\n",
    "plt.scatter(X_test, y_test, color = 'red')\n",
    "\n",
    "# plot the regression line (same as above)\n",
    "plt.plot(X_train, model.predict(X_train), color='blue')\n",
    "plt.title('Salary vs Experience (Test set)')\n",
    "plt.xlabel('Years of Experience')\n",
    "plt.ylabel('Salary')\n",
    "plt.show()\n"
   ]
  },
  {
   "cell_type": "code",
   "execution_count": null,
   "id": "minimal-pathology",
   "metadata": {},
   "outputs": [],
   "source": []
  }
 ],
 "metadata": {
  "kernelspec": {
   "display_name": "Python 3",
   "language": "python",
   "name": "python3"
  },
  "language_info": {
   "codemirror_mode": {
    "name": "ipython",
    "version": 3
   },
   "file_extension": ".py",
   "mimetype": "text/x-python",
   "name": "python",
   "nbconvert_exporter": "python",
   "pygments_lexer": "ipython3",
   "version": "3.9.1"
  }
 },
 "nbformat": 4,
 "nbformat_minor": 5
}
